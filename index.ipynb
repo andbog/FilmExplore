{
 "cells": [
  {
   "cell_type": "markdown",
   "metadata": {},
   "source": [
    "# Questions about films and ratings answered with data using python\n",
    "\n",
    "\n",
    "\n",
    "\n",
    "[1. Used data description](part1.ipynb) - general description of data used\n",
    "  \n",
    "[2. What films are the best](part2.ipynb) - first obvious question - what should I watch. Is the rating enough?\n",
    "  \n",
    "[3. Genres](part3.ipynb)\n",
    "  - What are most common genres\n",
    "  - Which are rated more often\n",
    "  - Does genre influence rating\n",
    "  \n",
    "[4. Production time vs rating time](part4.ipynb)\n",
    "  - Does the time elapsed between premiere and rating matters\n",
    "  - Can old movies be rated better because only classics get rated, or\n",
    "  - Maybe new films are rated better due to new production methods\n",
    "  \n",
    "[5. Can we predict how a user will rate movie](part5.ipynb) - testing models to predict exact rating\n",
    "  \n",
    "[6. Few words about recommendation systems](part6.ipynb) \n",
    "  \n"
   ]
  }
 ],
 "metadata": {
  "kernelspec": {
   "display_name": "Python 3",
   "language": "python",
   "name": "python3"
  },
  "language_info": {
   "codemirror_mode": {
    "name": "ipython",
    "version": 3
   },
   "file_extension": ".py",
   "mimetype": "text/x-python",
   "name": "python",
   "nbconvert_exporter": "python",
   "pygments_lexer": "ipython3",
   "version": "3.6.1"
  }
 },
 "nbformat": 4,
 "nbformat_minor": 2
}
